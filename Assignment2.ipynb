{
 "cells": [
  {
   "cell_type": "code",
   "execution_count": 48,
   "id": "a705e2a1",
   "metadata": {},
   "outputs": [],
   "source": [
    "\n",
    "# creating spark session\n",
    "from pyspark.sql import SparkSession\n",
    "import getpass\n",
    "\n",
    "username = getpass.getuser()\n",
    "spark = SparkSession.builder \\\n",
    "    .config('spark.shuffle.useOldFetchProtocol','true') \\\n",
    "    .config(\"spark.ui.port\", \"0\") \\\n",
    "    .config('spark.sql.warehouse.dir', f'/user/{username}/warehouse') \\\n",
    "    .enableHiveSupport() \\\n",
    ".master('yarn') \\\n",
    ".getOrCreate()"
   ]
  },
  {
   "cell_type": "code",
   "execution_count": 49,
   "id": "a7d74e87",
   "metadata": {},
   "outputs": [],
   "source": [
    "from pyspark.sql.functions import date_format # import date format function"
   ]
  },
  {
   "cell_type": "code",
   "execution_count": 50,
   "id": "978bceca",
   "metadata": {},
   "outputs": [],
   "source": [
    "order_schema = 'order_id long, order_date string, customer_id long, order_status string' # creating meta data"
   ]
  },
  {
   "cell_type": "code",
   "execution_count": 51,
   "id": "80e48417",
   "metadata": {},
   "outputs": [],
   "source": [
    "order_data = spark.read \\\n",
    ".format('csv') \\\n",
    ".schema(order_schema) \\\n",
    ".load('/rishabh/ivt008688/orders_sample.csv') # reading file of csv format"
   ]
  },
  {
   "cell_type": "code",
   "execution_count": 52,
   "id": "2501e872",
   "metadata": {},
   "outputs": [
    {
     "name": "stdout",
     "output_type": "stream",
     "text": [
      "+--------+--------------------+-----------+---------------+\n",
      "|order_id|          order_date|customer_id|   order_status|\n",
      "+--------+--------------------+-----------+---------------+\n",
      "|       1|2013-07-25 00:00:...|      11599|         CLOSED|\n",
      "|       2|2013-07-25 00:00:...|        256|PENDING_PAYMENT|\n",
      "|       3|2013-07-25 00:00:...|      12111|       COMPLETE|\n",
      "|       4|2013-07-25 00:00:...|       8827|         CLOSED|\n",
      "|       5|2013-07-25 00:00:...|      11318|       COMPLETE|\n",
      "|       6|2013-07-25 00:00:...|       7130|       COMPLETE|\n",
      "|       7|2013-07-25 00:00:...|       4530|       COMPLETE|\n",
      "|       8|2013-07-25 00:00:...|       2911|     PROCESSING|\n",
      "|       9|2013-07-25 00:00:...|       5657|PENDING_PAYMENT|\n",
      "|      10|2013-07-25 00:00:...|       5648|PENDING_PAYMENT|\n",
      "|      11|2013-07-25 00:00:...|        918| PAYMENT_REVIEW|\n",
      "|      12|2013-07-25 00:00:...|       1837|         CLOSED|\n",
      "|      13|2013-07-25 00:00:...|       9149|PENDING_PAYMENT|\n",
      "|      14|2013-07-25 00:00:...|       9842|     PROCESSING|\n",
      "|      15|2013-07-25 00:00:...|       2568|       COMPLETE|\n",
      "|      16|2013-07-25 00:00:...|       7276|PENDING_PAYMENT|\n",
      "|      17|2013-07-25 00:00:...|       2667|       COMPLETE|\n",
      "|      18|2013-07-25 00:00:...|       1205|         CLOSED|\n",
      "|      19|2013-07-25 00:00:...|       2667|PENDING_PAYMENT|\n",
      "|      20|2013-07-25 00:00:...|       1205|     PROCESSING|\n",
      "+--------+--------------------+-----------+---------------+\n",
      "\n"
     ]
    }
   ],
   "source": [
    "order_data.show() # showing some records of the file"
   ]
  },
  {
   "cell_type": "code",
   "execution_count": 53,
   "id": "f5054462",
   "metadata": {},
   "outputs": [
    {
     "name": "stdout",
     "output_type": "stream",
     "text": [
      "root\n",
      " |-- order_id: long (nullable = true)\n",
      " |-- order_date: string (nullable = true)\n",
      " |-- customer_id: long (nullable = true)\n",
      " |-- order_status: string (nullable = true)\n",
      "\n"
     ]
    }
   ],
   "source": [
    "order_data.printSchema() # shcema of the file "
   ]
  },
  {
   "cell_type": "code",
   "execution_count": 54,
   "id": "8d744b0d",
   "metadata": {},
   "outputs": [
    {
     "name": "stdout",
     "output_type": "stream",
     "text": [
      "+--------+---------------------+-----------+---------------+\n",
      "|order_id|order_date           |customer_id|order_status   |\n",
      "+--------+---------------------+-----------+---------------+\n",
      "|1       |2013-07-25 00:00:00.0|11599      |CLOSED         |\n",
      "|2       |2013-07-25 00:00:00.0|256        |PENDING_PAYMENT|\n",
      "|3       |2013-07-25 00:00:00.0|12111      |COMPLETE       |\n",
      "|4       |2013-07-25 00:00:00.0|8827       |CLOSED         |\n",
      "|5       |2013-07-25 00:00:00.0|11318      |COMPLETE       |\n",
      "|6       |2013-07-25 00:00:00.0|7130       |COMPLETE       |\n",
      "|7       |2013-07-25 00:00:00.0|4530       |COMPLETE       |\n",
      "|8       |2013-07-25 00:00:00.0|2911       |PROCESSING     |\n",
      "|9       |2013-07-25 00:00:00.0|5657       |PENDING_PAYMENT|\n",
      "|10      |2013-07-25 00:00:00.0|5648       |PENDING_PAYMENT|\n",
      "|11      |2013-07-25 00:00:00.0|918        |PAYMENT_REVIEW |\n",
      "|12      |2013-07-25 00:00:00.0|1837       |CLOSED         |\n",
      "|13      |2013-07-25 00:00:00.0|9149       |PENDING_PAYMENT|\n",
      "|14      |2013-07-25 00:00:00.0|9842       |PROCESSING     |\n",
      "|15      |2013-07-25 00:00:00.0|2568       |COMPLETE       |\n",
      "|16      |2013-07-25 00:00:00.0|7276       |PENDING_PAYMENT|\n",
      "|17      |2013-07-25 00:00:00.0|2667       |COMPLETE       |\n",
      "|18      |2013-07-25 00:00:00.0|1205       |CLOSED         |\n",
      "|19      |2013-07-25 00:00:00.0|2667       |PENDING_PAYMENT|\n",
      "|20      |2013-07-25 00:00:00.0|1205       |PROCESSING     |\n",
      "+--------+---------------------+-----------+---------------+\n",
      "\n"
     ]
    }
   ],
   "source": [
    "order_data.show(truncate=False)"
   ]
  },
  {
   "cell_type": "markdown",
   "id": "d868b37a",
   "metadata": {},
   "source": [
    "### Date Transformation"
   ]
  },
  {
   "cell_type": "code",
   "execution_count": 55,
   "id": "c2c36cc2",
   "metadata": {},
   "outputs": [],
   "source": [
    "order_data_transformed =order_data.withColumn('order_date',date_format('order_date','MM-dd-yyyy' )) # converting from yyyy-mm-dd to MM-DD-YYYY format."
   ]
  },
  {
   "cell_type": "code",
   "execution_count": 56,
   "id": "1d517b89",
   "metadata": {},
   "outputs": [
    {
     "name": "stdout",
     "output_type": "stream",
     "text": [
      "+--------+----------+-----------+---------------+\n",
      "|order_id|order_date|customer_id|   order_status|\n",
      "+--------+----------+-----------+---------------+\n",
      "|       1|07-25-2013|      11599|         CLOSED|\n",
      "|       2|07-25-2013|        256|PENDING_PAYMENT|\n",
      "|       3|07-25-2013|      12111|       COMPLETE|\n",
      "|       4|07-25-2013|       8827|         CLOSED|\n",
      "|       5|07-25-2013|      11318|       COMPLETE|\n",
      "|       6|07-25-2013|       7130|       COMPLETE|\n",
      "|       7|07-25-2013|       4530|       COMPLETE|\n",
      "|       8|07-25-2013|       2911|     PROCESSING|\n",
      "|       9|07-25-2013|       5657|PENDING_PAYMENT|\n",
      "|      10|07-25-2013|       5648|PENDING_PAYMENT|\n",
      "|      11|07-25-2013|        918| PAYMENT_REVIEW|\n",
      "|      12|07-25-2013|       1837|         CLOSED|\n",
      "|      13|07-25-2013|       9149|PENDING_PAYMENT|\n",
      "|      14|07-25-2013|       9842|     PROCESSING|\n",
      "|      15|07-25-2013|       2568|       COMPLETE|\n",
      "|      16|07-25-2013|       7276|PENDING_PAYMENT|\n",
      "|      17|07-25-2013|       2667|       COMPLETE|\n",
      "|      18|07-25-2013|       1205|         CLOSED|\n",
      "|      19|07-25-2013|       2667|PENDING_PAYMENT|\n",
      "|      20|07-25-2013|       1205|     PROCESSING|\n",
      "+--------+----------+-----------+---------------+\n",
      "\n"
     ]
    }
   ],
   "source": [
    "order_data_transformed.show()"
   ]
  },
  {
   "cell_type": "markdown",
   "id": "baa4baf8",
   "metadata": {},
   "source": [
    "# Save the into sql or postgresql server"
   ]
  },
  {
   "cell_type": "code",
   "execution_count": null,
   "id": "3983826a",
   "metadata": {},
   "outputs": [],
   "source": [
    "\n",
    "# give table name\n",
    "table_name = \"order_date_transformed\"\n",
    "# jdbc url, it is dummy url for showing work\n",
    "jdbc_url = \"jdbc:sqlserver://your_sql_server_host:your_sql_server_port;databaseName=your_database\"\n",
    "\n",
    "# dummy properteis to show, as this apache spark is not connected to actual server\n",
    "properties = {\n",
    "    \"user\": \"your_username\",\n",
    "    \"password\": \"your_password\",\n",
    "    \"driver\": \"com.microsoft.sqlserver.jdbc.SQLServerDriver\"\n",
    "}\n",
    "\n",
    "# code to save table into sql server\n",
    "order_data_transformed.write. \\\n",
    ".jdbc(url=jdbc_url, table=table_name, mode=\"overwrite\", properties=properties)"
   ]
  },
  {
   "cell_type": "markdown",
   "id": "49a32b85",
   "metadata": {},
   "source": [
    "## Save the output as a Parquet file."
   ]
  },
  {
   "cell_type": "code",
   "execution_count": 57,
   "id": "8520f05e",
   "metadata": {},
   "outputs": [],
   "source": [
    "order_data_transformed.write \\\n",
    ".format(\"parquet\") \\\n",
    ".mode('overwrite') \\  \n",
    ".save(\"practiceOutput2/order_data_transformed\")  # file location to store"
   ]
  }
 ],
 "metadata": {
  "kernelspec": {
   "display_name": "Pyspark 3",
   "language": "python",
   "name": "pyspark3"
  },
  "language_info": {
   "codemirror_mode": {
    "name": "ipython",
    "version": 3
   },
   "file_extension": ".py",
   "mimetype": "text/x-python",
   "name": "python",
   "nbconvert_exporter": "python",
   "pygments_lexer": "ipython3",
   "version": "3.6.12"
  }
 },
 "nbformat": 4,
 "nbformat_minor": 5
}
